{
  "nbformat": 4,
  "nbformat_minor": 0,
  "metadata": {
    "colab": {
      "provenance": []
    },
    "kernelspec": {
      "name": "python3",
      "display_name": "Python 3"
    },
    "language_info": {
      "name": "python"
    }
  },
  "cells": [
    {
      "cell_type": "markdown",
      "source": [
        "### Time To Event Forecasting with Simple ML Approaches"
      ],
      "metadata": {
        "id": "0uaWBOUDqdP7"
      }
    },
    {
      "cell_type": "markdown",
      "source": [
        "In data-driven companies, **time-to-event** applications assume a crucial role in decision-making (also more than we can imagine). **With time-to-event analysis, we are referring to all the techniques used to measure the time which elapses until some events of interest happen.** \n",
        "This straight-forward definition may immediately outline all the benefits of developing time-event applications in business contexts (and not only). \n",
        "\n",
        "Time-to-event origins are related to the medical field to answer questions like: \"how long do the individuals under analysis live?\". For this reason, the terms survival and time-to-event are usually used as synonyms. Nowadays, **with the adoption of machine learning on large scale, it's usual to find applications of survival methodologies** also in companies outside the medical/clinical sector. A manufacturer may be interested in estimating the expected life of some engines; a service provider may need to compute the expected life of their customers; a financial institution may evaluate the borrower's insolvency risk over time. \n",
        "\n",
        "**Practically speaking, to model a time-to-event problem, there is a proper set of methodologies.** From classical linear statistical methods to more sophisticated machine learning approaches up to cutting-edge deep-learning solutions, a lot of **survival frameworks** have been released. All of them are awesomebut they must respect the assumption proper to the survival modeling theory which may result in low adaptability or limitations for real use cases. For these reasons, **a convinient way to deal with survival analysis may consist of treating time-to-event modeling as a classification problem.**\n",
        "\n",
        "In this article, we propose a generalization to carry out survival analysis with predictive capabilities. **We aim to model the elapsed time, between the starting time and the event of interest, as a multiple binary classification problem.** With proper and simple post-processing, we can retrieve reliable and robust individual survival curves. **We can do it using our favorite classification algorithm**, making parameters search as always, and considering the posiibility to calibrate our outcomes to make them more trustable. \n"
      ],
      "metadata": {
        "id": "Z76hiQDPq49k"
      }
    },
    {
      "cell_type": "markdown",
      "source": [
        "### THE DATA\n",
        "\n",
        "Arranging the data at our disposal to implement a survival predictive application is particularly sraightforward and does not require particular effort. We must have some input features (numerical or categorical) and a raw target, like in a standard regression/classification tabular task. In this context, **the target represents how much time elapsed from the monitoring start to the event happening.**\n",
        "\n",
        "Let's imagine being a company that offers an online subscription service. We may be interested in computing the expected life of our customers at subscription time. In other words, when a new customer lands on our platform and subscribes to get the services, we would like to know how much time she/he will remain out client. We can carry out the task by developing a survival approach that outputs probability survival curves (one for each customer). **Survival curves are sequences of monotonic probabilities.** For each time step, we have numbers between 0 and 1 that state the survival likelihood of some events (subscription in our case) in that particular time range. \n",
        "\n",
        "A graphical representation of survival function<br>\n",
        "<img src='https://miro.medium.com/max/720/1*Pj8AbRVb3U1OQcr51k-kwg.webp'>\n",
        "\n"
      ],
      "metadata": {
        "id": "2qufA6NMv_6B"
      }
    },
    {
      "cell_type": "markdown",
      "source": [
        "We simulate some numerical input features and a target representing how much time individuals remain our customers from their first subscription. From our simulation, we observe that most of our customers leave in the first stage after their engagement (left side of histogram below). This represents a reliable dynamic for most companies, where a lot of clients churn after a while. On the contrary, we have a group of loyal subscribers who remain users of our services. In our case, we limit the maximum observable subscription times up to 700 periods (let's say days). This assumption is mandatory to make our approach work. \n",
        "\n",
        "Event time distribution(on the left), Binary label proportion(on the right)<br>\n",
        "<img src=\"https://miro.medium.com/max/720/0*Rfjhv8ZB5T3MbaMc.webp\">"
      ],
      "metadata": {
        "id": "aiGyCp3y0c4V"
      }
    },
    {
      "cell_type": "code",
      "source": [
        "import numpy as np\n",
        "import pandas as pd\n",
        "import matplotlib.pyplot as plt\n",
        "\n",
        "from joblib import Parallel, delayed\n",
        "from sklearn.datasets import make_regression\n",
        "from sklearn.preprocessing import OneHotEncoder\n",
        "from sklearn.linear_model import LogisticRegression\n",
        "from sklearn.isotonic import IsotonicRegression\n",
        "from sklearn.multioutput import ClassifierChain\n",
        "from sklearn.model_selection import train_test_split\n",
        "from sklearn.metrics import brier_score_loss, log_loss"
      ],
      "metadata": {
        "id": "Ainpxka825jW"
      },
      "execution_count": 1,
      "outputs": []
    },
    {
      "cell_type": "markdown",
      "source": [
        "#### Simulating the Survival Data"
      ],
      "metadata": {
        "id": "0ceBbYBG7UWW"
      }
    },
    {
      "cell_type": "code",
      "source": [
        "def sim_event_times(n_samples=3_000, n_features=20, random_state=0):\n",
        "    X, y = make_regression(\n",
        "        n_samples = n_samples, n_features = n_features, \n",
        "        n_informative = int(n_features*.4), random_state = random_state,\n",
        "    )\n",
        "    y = np.searchsorted(np.quantile(y, np.linspace(0,1,10)), y)\n",
        "    np.random.seed(random_state)\n",
        "    betas = 365 * np.exp(-0.6 * y) / np.log(1.1)\n",
        "    y_time = np.random.exponential(betas)\n",
        "    return X, y_time\n",
        "\n",
        "X, y_time = sim_event_times(n_samples=3_000, n_features=20)"
      ],
      "metadata": {
        "id": "wmZ7vKKH7dEq"
      },
      "execution_count": 2,
      "outputs": []
    },
    {
      "cell_type": "markdown",
      "source": [
        "#### Adjust Event Target"
      ],
      "metadata": {
        "id": "5wmflQs78qiw"
      }
    },
    {
      "cell_type": "code",
      "source": [
        "n_bins = 20\n",
        "max_time = 700\n",
        "\n",
        "y_time[(y_time > max_time)] = max_time\n",
        "bin_edges = np.linspace(y_time.min(), y_time.max(), n_bins+1)\n",
        "bin_edges[0] = 0\n",
        "\n",
        "encoder = OneHotEncoder(\n",
        "    categories = [np.arange(n_bins+1)],\n",
        "    sparse = False, drop = None\n",
        ").fit(np.zeros((1,1)))\n",
        "\n",
        "time = np.searchsorted(bin_edges[1:], y_time, side='right')\n",
        "y_time_ohe = encoder.transform(time.reshape(-1,1))\n",
        "y_time_ohe = np.cumsum(y_time_ohe, 1)\n",
        "y_time_ohe = y_time_ohe[:, :-1]\n",
        "y_time_ohe.shape"
      ],
      "metadata": {
        "colab": {
          "base_uri": "https://localhost:8080/",
          "height": 0
        },
        "id": "Zcepcl_U8sDZ",
        "outputId": "1c36bb0f-c1b0-43d0-ee7e-f240b3d4e82d"
      },
      "execution_count": 8,
      "outputs": [
        {
          "output_type": "execute_result",
          "data": {
            "text/plain": [
              "(3000, 20)"
            ]
          },
          "metadata": {},
          "execution_count": 8
        }
      ]
    },
    {
      "cell_type": "code",
      "source": [
        "#### PLOT EVENT TARGET AND LABEL PROPORTION\n",
        "\n",
        "plt.figure(figsize=(16,5))\n",
        "plt.subplot(1,2,1)\n",
        "plt.hist(y_time, bins=bin_edges, color='green')\n",
        "plt.xlabel('timeline')\n",
        "plt.ylabel('frequency')\n",
        "plt.subplot(1,2,2)\n",
        "plt.plot(bin_edges[:-1], y_time_ohe.mean(axis=0), marker='o', color='green')\n",
        "plt.ylim([-0.03, 1.03]); plt.axhline(0.5, linestyle='--', c='black')\n",
        "plt.xlabel('timeline');plt.ylabel('label proportion')\n",
        "plt.show()"
      ],
      "metadata": {
        "colab": {
          "base_uri": "https://localhost:8080/",
          "height": 334
        },
        "id": "GUfmFDJH-DbE",
        "outputId": "2379d2f6-f471-4f32-e296-ae8166109a3e"
      },
      "execution_count": 9,
      "outputs": [
        {
          "output_type": "display_data",
          "data": {
            "text/plain": [
              "<Figure size 1152x360 with 2 Axes>"
            ],
            "image/png": "[encoded data removed]"
          },
          "metadata": {
            "needs_background": "light"
          }
        }
      ]
    },
    {
      "cell_type": "markdown",
      "source": [
        "### MODELING\n",
        "\n",
        "We start binning the leaving time into groups of regular length (bins). For each customer under analysis, we end up having a normalized categorical target with several unique classes equal to the number of created bins. At this point, we can **transform the target with one hot encoding, resulting in a multidimensional binary target of zeros and ones.** The ones identify in which temporal range our customers are leaving (leaving bins). As the final step, we have to replace, in the target sequences, the zeros with ones on the left before the \"leaving bins\". This final step is important to provide a temporary path in the target ready to be modeled, where zeros identify the temporal ranges in which our customers are left. \n",
        "\n",
        "One hot encoded binned event time (on the left). Cumulative one hot encoded binned event time (on the right).<br> \n",
        "<img src=\"https://miro.medium.com/max/720/1*FpBV-sLrkJuvPo8WoWkhIg.webp\">"
      ],
      "metadata": {
        "id": "FH3B7bCg_KVz"
      }
    },
    {
      "cell_type": "markdown",
      "source": [
        "Now we have all that we need in the correct format. We have a set of features and multidimensional binary target. In other words, we simply have to solve a multidimensional binary classification task. A possibility to solve it consists in using native scikit-learn methodologies. "
      ],
      "metadata": {
        "id": "cu_d0pneDQwS"
      }
    },
    {
      "cell_type": "code",
      "source": [
        "### TRAIN TEST SPLIT\n",
        "\n",
        "X_train, X_test, y_train, y_test = train_test_split(\n",
        "    X, y_time_ohe, test_size=0.25, shuffle=True, random_state=33 \n",
        ")\n",
        "\n",
        "y_test = 1 - y_test"
      ],
      "metadata": {
        "id": "xpKOIecnEVmu"
      },
      "execution_count": 11,
      "outputs": []
    },
    {
      "cell_type": "code",
      "source": [
        "from sklearn.multioutput import ClassifierChain\n",
        "from sklearn.linear_model import LogisticRegression\n",
        "\n",
        "model = ClassifierChain(\n",
        "    LogisticRegression(random_state=33, max_iter=2000), cv=5\n",
        ")\n",
        "model.fit(X_train, y_train)"
      ],
      "metadata": {
        "colab": {
          "base_uri": "https://localhost:8080/"
        },
        "id": "fTGLbJfoDrCU",
        "outputId": "123d719a-9dc5-4f64-889b-31beb4267c3a"
      },
      "execution_count": 12,
      "outputs": [
        {
          "output_type": "execute_result",
          "data": {
            "text/plain": [
              "ClassifierChain(base_estimator=LogisticRegression(max_iter=2000,\n",
              "                                                  random_state=33),\n",
              "                cv=5)"
            ]
          },
          "metadata": {},
          "execution_count": 12
        }
      ]
    },
    {
      "cell_type": "markdown",
      "source": [
        "With a classifier chain, **we model our multioutput classification target as standalone but dependent binary classification tasks.** We say dependant since the output of the previous step is concantenated with the initial features and used as input for the next training in the chain. \n",
        "\n",
        "After the training phase, we end up with a set of dependent binary classifiers. Each of them provides a probability outcome which is a piece to build the final individual survival curves. The probabilities are for sure between 0 and 1 but there is not guarentee about the monotony constraint proper of survival functions. In other words, **the probability of survival in the first temporal bin must be higher than the ones obtained in the following temporal ranges. To have this requirement satisfied we operate a postprocessing manipulation on the probabilities obtained by our classifier chain at customer levels. "
      ],
      "metadata": {
        "id": "6lsoUUWwEKdu"
      }
    },
    {
      "cell_type": "code",
      "source": [
        "### Post Processing Survival Curve Predictions\n",
        "isoreg = IsotonicRegression(y_min=0, y_max=1, increasing=True)\n",
        "x = np.arange(0, n_bins)\n",
        "\n",
        "proba = model.predict_proba(X_test)\n",
        "\n",
        "proba = Parallel(n_jobs=-1, verbose=1)(\n",
        "    delayed(isoreg.fit_transform)(x,p)\n",
        "    for p in proba\n",
        ")\n",
        "\n",
        "proba = 1 - np.asarray(proba)\n",
        "\n",
        "proba.shape"
      ],
      "metadata": {
        "colab": {
          "base_uri": "https://localhost:8080/"
        },
        "id": "hfZtHPYAGcAo",
        "outputId": "0c515b97-bdfa-4fdd-fcba-1b25cd148945"
      },
      "execution_count": 13,
      "outputs": [
        {
          "output_type": "stream",
          "name": "stderr",
          "text": [
            "[Parallel(n_jobs=-1)]: Using backend LokyBackend with 2 concurrent workers.\n",
            "[Parallel(n_jobs=-1)]: Done 606 tasks      | elapsed:    1.0s\n",
            "[Parallel(n_jobs=-1)]: Done 750 out of 750 | elapsed:    1.1s finished\n"
          ]
        },
        {
          "output_type": "execute_result",
          "data": {
            "text/plain": [
              "(750, 20)"
            ]
          },
          "metadata": {},
          "execution_count": 13
        }
      ]
    },
    {
      "cell_type": "markdown",
      "source": [
        "Simply **applying isotonic regressions on the final probabilities we obtain monotonic survival curves as final outputs.**<br>\n",
        "\n",
        "Samples of predicted survival curves<br>\n",
        "<img src=\"https://miro.medium.com/max/720/0*y8nh28jhFKZg8ud0.webp\">"
      ],
      "metadata": {
        "id": "QqnQpRmJHTDY"
      }
    },
    {
      "cell_type": "markdown",
      "source": [
        "In the end, we can measure the errors like in standard supervised tasks, using our metrics of interest. We may use for example, the Brier Score or the more standard logistic loss. "
      ],
      "metadata": {
        "id": "TIw2DbRcHrcC"
      }
    },
    {
      "cell_type": "code",
      "source": [
        "from sklearn.metrics import brier_score_loss, log_loss\n",
        "\n",
        "brier_scores = Parallel(n_jobs=-1, verbose=1)(\n",
        "    delayed(brier_score_loss)(true, pred, pos_label=1)\n",
        "    for true, pred in zip(y_test, proba)\n",
        ")\n",
        "\n",
        "logloss_scores = Parallel(n_jobs=-1, verbose=1)(\n",
        "    delayed(log_loss)(true, pred, labels=[0,1])\n",
        "    for true, pred in zip(y_test, proba)\n",
        ")"
      ],
      "metadata": {
        "colab": {
          "base_uri": "https://localhost:8080/"
        },
        "id": "k_cKQJJaII3R",
        "outputId": "3730c739-6a23-4f78-f275-40f76206f77c"
      },
      "execution_count": 14,
      "outputs": [
        {
          "output_type": "stream",
          "name": "stderr",
          "text": [
            "[Parallel(n_jobs=-1)]: Using backend LokyBackend with 2 concurrent workers.\n",
            "[Parallel(n_jobs=-1)]: Done 626 tasks      | elapsed:    1.0s\n",
            "[Parallel(n_jobs=-1)]: Done 747 out of 750 | elapsed:    1.0s remaining:    0.0s\n",
            "[Parallel(n_jobs=-1)]: Done 750 out of 750 | elapsed:    1.0s finished\n",
            "[Parallel(n_jobs=-1)]: Using backend LokyBackend with 2 concurrent workers.\n",
            "[Parallel(n_jobs=-1)]: Done 724 tasks      | elapsed:    0.5s\n",
            "[Parallel(n_jobs=-1)]: Done 750 out of 750 | elapsed:    0.5s finished\n"
          ]
        }
      ]
    },
    {
      "cell_type": "code",
      "source": [
        "### PLOT TEST SCORE DISTRIBUTIONS\n",
        "\n",
        "plt.figure(figsize=(16,5))\n",
        "plt.subplot(1,2,1)\n",
        "plt.hist(brier_scores, bins=20, color='green')\n",
        "plt.xlabel('brier score'); plt.ylabel('frequency')\n",
        "plt.subplot(1,2,2)\n",
        "plt.hist(logloss_scores, bins=20, color='green')\n",
        "plt.xlabel('logloss score'); plt.ylabel('frequency')\n",
        "plt.show()"
      ],
      "metadata": {
        "colab": {
          "base_uri": "https://localhost:8080/",
          "height": 334
        },
        "id": "JaW9T4kNIyyK",
        "outputId": "f03f12f6-d44c-4025-8e61-07b80bf0a128"
      },
      "execution_count": 15,
      "outputs": [
        {
          "output_type": "display_data",
          "data": {
            "text/plain": [
              "<Figure size 1152x360 with 2 Axes>"
            ],
            "image/png": "[encoded data removed]"
          },
          "metadata": {
            "needs_background": "light"
          }
        }
      ]
    },
    {
      "cell_type": "markdown",
      "source": [
        "#### SUMMARY\n",
        "\n",
        "In this post, we introduced a simple and effective method to produce survival curves with standard machine learning classifiers of our choice. We found that we can predict survival curves by modeling the observed failure times as sequence of binary targets. With straightforward probability postprocessing, we obtained reliable probabilistic outputs. The proposed methodology can be easily generalized and applied in a lot of contexts (also considering censored observations if their addition is reasonable to provide a performance improvement). "
      ],
      "metadata": {
        "id": "_zwzk1DEJmtp"
      }
    },
    {
      "cell_type": "code",
      "source": [],
      "metadata": {
        "id": "2X3FJDpYKfgn"
      },
      "execution_count": null,
      "outputs": []
    }
  ]
}